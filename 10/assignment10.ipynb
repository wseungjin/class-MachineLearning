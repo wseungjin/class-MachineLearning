{
 "cells": [
  {
   "cell_type": "markdown",
   "metadata": {},
   "source": [
    "[1] Package import"
   ]
  },
  {
   "cell_type": "code",
   "execution_count": 249,
   "metadata": {},
   "outputs": [],
   "source": [
    "import os\n",
    "\n",
    "\n",
    "import numpy as np\n",
    "import pandas as pd\n",
    "import matplotlib.pyplot as plt\n",
    "%matplotlib inline"
   ]
  },
  {
   "cell_type": "markdown",
   "metadata": {},
   "source": [
    "[2] functions   "
   ]
  },
  {
   "cell_type": "code",
   "execution_count": 250,
   "metadata": {},
   "outputs": [],
   "source": [
    "#activation function\n",
    "#sigmoid function\n",
    "def sigmoid(x, derivative=False):\n",
    "    return x*(1-x) if derivative else 1/(1+np.exp(-x))\n",
    "\n",
    "#\n",
    "# normalize the values of the input data to be [0, 1]\n",
    "#\n",
    "def normalize(data):\n",
    "\n",
    "    data_normalized = (data - min(data)) / (max(data) - min(data))\n",
    "\n",
    "    return(data_normalized)\n",
    "\n",
    "#\n",
    "# example of distance function between two vectors x and y\n",
    "#\n",
    "def distance(x, y):\n",
    "\n",
    "    d = (x - y) ** 2\n",
    "    s = np.sum(d)\n",
    "    # r = np.sqrt(s)\n",
    "\n",
    "    return(s)\n"
   ]
  },
  {
   "cell_type": "markdown",
   "metadata": {},
   "source": [
    "[3] read data"
   ]
  },
  {
   "cell_type": "code",
   "execution_count": 251,
   "metadata": {},
   "outputs": [],
   "source": [
    "file_data   = \"mnist.csv\"\n",
    "handle_file = open(file_data, \"r\")\n",
    "data        = handle_file.readlines()\n",
    "handle_file.close()\n",
    "\n",
    "size_row    = 28    # height of the image\n",
    "size_col    = 28    # width of the image\n",
    "\n",
    "num_image   = len(data)\n",
    "count       = 0     # count for the number of images\n",
    "\n",
    "#\n",
    "# make a matrix each column of which represents an images in a vector form \n",
    "#\n",
    "list_image  = np.empty((size_row * size_col, num_image), dtype=float)\n",
    "list_label  = np.empty(num_image, dtype=int)\n",
    "\n",
    "for line in data:\n",
    "\n",
    "    line_data   = line.split(',')\n",
    "    label       = line_data[0]\n",
    "    im_vector   = np.asfarray(line_data[1:])\n",
    "    im_vector   = normalize(im_vector)\n",
    "\n",
    "    list_label[count]       = label\n",
    "    list_image[:, count]    = im_vector    \n",
    "\n",
    "    count += 1\n",
    "    \n",
    "    \n",
    "#Datanum\n",
    "trDataNum=1000\n",
    "tDataNum=9000\n",
    "    \n",
    "trainX = list_image[:,0:1000] \n",
    "trainY = list_label[0:1000] \n",
    "testX =  list_image[:,1000:10000] \n",
    "testY = list_label[1000:10000]\n",
    "\n",
    "nb_classes = 10\n",
    "\n",
    "trainY =np.eye(nb_classes)[trainY]\n",
    "testY = np.eye(nb_classes)[testY]\n",
    "                          \n",
    "trainY = trainY.T\n",
    "testY = testY.T"
   ]
  },
  {
   "cell_type": "markdown",
   "metadata": {},
   "source": [
    "[4] initailize values"
   ]
  },
  {
   "cell_type": "code",
   "execution_count": 252,
   "metadata": {},
   "outputs": [],
   "source": [
    "# Epoch num\n",
    "NUM_EPOCH=10000\n",
    "\n",
    "#Array for writing loss, accuracy\n",
    "trLossArray=np.zeros((NUM_EPOCH+1,1))\n",
    "tLossArray=np.zeros((NUM_EPOCH+1,1))\n",
    "trAcArray=np.zeros((NUM_EPOCH+1,1))\n",
    "tAcArray=np.zeros((NUM_EPOCH+1,1))\n",
    "\n",
    "lr=0.2 #learning Rate\n",
    "\n",
    "#weight\n",
    "\n",
    "# np.random.seed(0)\n",
    "\n",
    "u=np.random.randn(196,784)#layer 1 weight (input : input feature) \n",
    "\n",
    "v=np.random.randn(49,196)#layer 2 weight (input: w1 output feature) \n",
    "\n",
    "w=np.random.randn(10,49)#layer 3  weight (input :w2 output feature) \n",
    "\n",
    "#bias \n",
    "a=np.zeros((1,1))#layer 1  bias \n",
    "\n",
    "b=np.zeros((1,1))#layer 2 bias \n",
    "\n",
    "c=np.zeros((1,1))#layer 3 bias \n",
    "\n",
    "#X for drawing the graph\n",
    "x_=np.arange(NUM_EPOCH+1)#X"
   ]
  },
  {
   "cell_type": "markdown",
   "metadata": {},
   "source": [
    "[5] training(gradient decent)"
   ]
  },
  {
   "cell_type": "code",
   "execution_count": 253,
   "metadata": {
    "scrolled": false
   },
   "outputs": [],
   "source": [
    "for epoch in range(NUM_EPOCH+1):\n",
    "    \n",
    "    #forward propagation(train)\n",
    "    trZ1=np.dot(u,trainX)+a#Layer 1\n",
    "    trA1=sigmoid(trZ1)\n",
    "\n",
    "    trZ2=np.dot(v,trA1)+b#Layer 2\n",
    "    trA2=sigmoid(trZ2)\n",
    "    \n",
    "    trZ3=np.dot(w,trA2)+c#Layer 3\n",
    "    trA3=sigmoid(trZ3)\n",
    "\n",
    "    #get train loss\n",
    "    trloss=-(np.multiply(trainY,np.log(trA3))+np.multiply((1-trainY),np.log(1-trA3)))\n",
    "    trloss=np.mean(trloss.T,axis=1)\n",
    "    trloss=1/trDataNum*np.sum(trloss)\n",
    "    trLossArray[epoch]=trloss\n",
    "    \n",
    "    #forward propagation(test)\n",
    "    tZ1=np.dot(u,testX)+a#Layer 1\n",
    "    tA1=sigmoid(tZ1)\n",
    "    \n",
    "    tZ2=np.dot(v,tA1)+b#Layer 2\n",
    "    tA2=sigmoid(tZ2)\n",
    "    \n",
    "    tZ3=np.dot(w,tA2)+c#Layer 3\n",
    "    tA3=sigmoid(tZ3)\n",
    "    \n",
    "    #get test loss\n",
    "    tloss=-(np.multiply(testY,np.log(tA3))+np.multiply((1-testY),np.log(1-tA3)))\n",
    "    tloss=np.mean(tloss.T,axis=1)\n",
    "    tloss=1/tDataNum*np.sum(tloss)\n",
    "    tLossArray[epoch]=tloss\n",
    "    \n",
    "    #get Accuracy\n",
    "    trainPY1=np.argmax(trA3.T,axis=1)\n",
    "    trainPY2=np.argmax(trainY.T,axis=1)\n",
    "    trAccuracy=((trainPY1 == trainPY2).sum())/trDataNum\n",
    "    trAcArray[epoch]=trAccuracy\n",
    "    \n",
    "    testPY1 = np.argmax(tA3.T,axis=1)\n",
    "    testPY2 = np.argmax(testY.T,axis=1)\n",
    "    tAccuracy=((testPY1 == testPY2).sum())/tDataNum\n",
    "    tAcArray[epoch]=tAccuracy\n",
    "    \n",
    "    #backward propagation\n",
    "    dz3=trA3-trainY\n",
    "    dw=1/trDataNum*np.dot(dz3,trA2.T)\n",
    "    dc=1/trDataNum*np.sum(dz3,axis=1,keepdims=True)\n",
    "    \n",
    "    dz2=np.multiply(np.dot(w.T,dz3),trA2*(1.0-trA2))\n",
    "    dv=1/trDataNum*np.dot(dz2,trA1.T)\n",
    "    db=1/trDataNum*np.sum(dz2,axis=1,keepdims=True)\n",
    "    \n",
    "    dz1=np.multiply(np.dot(v.T,dz2),trA1*(1.0-trA1))\n",
    "    du=1/trDataNum*np.dot(dz1,trainX.T)\n",
    "    da=1/trDataNum*np.sum(dz1,axis=1,keepdims=True)\n",
    "    \n",
    "    \n",
    "    #update weight and bias\n",
    "    u=u-lr*du\n",
    "    a=a-lr*da    \n",
    "\n",
    "    v=v-lr*dv\n",
    "    b=b-lr*db\n",
    "    \n",
    "    w=w-lr*dw\n",
    "    c=c-lr*dc\n"
   ]
  },
  {
   "cell_type": "markdown",
   "metadata": {},
   "source": [
    "[6] find correct and wrong 10 images"
   ]
  },
  {
   "cell_type": "code",
   "execution_count": 283,
   "metadata": {},
   "outputs": [],
   "source": [
    "## find correct Image\n",
    "\n",
    "count= 0\n",
    "correctNum = 0\n",
    "correctImage = np.empty((784,10))\n",
    "correctLabel = np.empty(10)\n",
    "while(1):\n",
    "    \n",
    "    if(correctNum==10):\n",
    "        break\n",
    "    \n",
    "    tZ1=np.dot(u,testX[:,count:count+1])+a#Layer 1\n",
    "    tA1=sigmoid(tZ1)\n",
    "    \n",
    "    tZ2=np.dot(v,tA1)+b#Layer 2\n",
    "    tA2=sigmoid(tZ2)\n",
    "    \n",
    "    tZ3=np.dot(w,tA2)+c#Layer 3\n",
    "    tA3=sigmoid(tZ3)\n",
    "\n",
    "    PY1=np.argmax(tA3.T)\n",
    "    PY2=np.argmax(testY[:,count:count+1].T)\n",
    "    if PY1==PY2:\n",
    "        correctImage[:,correctNum] = testX[:,count]\n",
    "        correctLabel[correctNum] = PY1\n",
    "        correctNum = correctNum + 1\n",
    "        count = count + 1\n",
    "        \n",
    "    else: \n",
    "        count = count + 1\n",
    "\n",
    "## find wrong Image\n",
    "        \n",
    "count= 0\n",
    "wrongNum = 0\n",
    "wrongImage = np.empty((784,10))\n",
    "wrongLabel = np.empty(10)\n",
    "while(1):\n",
    "    \n",
    "    if(wrongNum==10):\n",
    "        break\n",
    "    \n",
    "    tZ1=np.dot(u,testX[:,count:count+1])+a#Layer 1\n",
    "    tA1=sigmoid(tZ1)\n",
    "    \n",
    "    tZ2=np.dot(v,tA1)+b#Layer 2\n",
    "    tA2=sigmoid(tZ2)\n",
    "    \n",
    "    tZ3=np.dot(w,tA2)+c#Layer 3\n",
    "    tA3=sigmoid(tZ3)\n",
    "\n",
    "    PY1=np.argmax(tA3.T)\n",
    "    PY2=np.argmax(testY[:,count:count+1].T)\n",
    "    \n",
    "    if PY1!=PY2:\n",
    "        wrongImage[:,wrongNum] = testX[:,count]\n",
    "        wrongLabel[wrongNum] = PY1\n",
    "        wrongNum = wrongNum + 1\n",
    "        count = count + 1\n",
    "        \n",
    "    else: \n",
    "        count = count + 1"
   ]
  },
  {
   "cell_type": "markdown",
   "metadata": {},
   "source": [
    "[7] Plot the loss curve"
   ]
  },
  {
   "cell_type": "code",
   "execution_count": 284,
   "metadata": {},
   "outputs": [
    {
     "data": {
      "image/png": "[encoded data removed]",
      "text/plain": [
       "<Figure size 432x288 with 1 Axes>"
      ]
     },
     "metadata": {
      "needs_background": "light"
     },
     "output_type": "display_data"
    }
   ],
   "source": [
    "plt.title(\"train loss and test loss\")\n",
    "plt.scatter(x_,trLossArray ,c=\"b\",)#train loss \n",
    "plt.scatter(x_,tLossArray ,c=\"r\")#test loss\n",
    "plt.show()"
   ]
  },
  {
   "cell_type": "markdown",
   "metadata": {},
   "source": [
    "[8] Plot the accuracy curve"
   ]
  },
  {
   "cell_type": "code",
   "execution_count": 285,
   "metadata": {
    "scrolled": true
   },
   "outputs": [
    {
     "data": {
      "image/png": "[encoded data removed]",
      "text/plain": [
       "<Figure size 432x288 with 1 Axes>"
      ]
     },
     "metadata": {
      "needs_background": "light"
     },
     "output_type": "display_data"
    }
   ],
   "source": [
    "plt.title(\"train Ac and test Ac\")\n",
    "plt.scatter(x_,trAcArray,c=\"b\")#train ac \n",
    "plt.scatter(x_,tAcArray,c=\"r\")#test ac \n",
    "plt.show()"
   ]
  },
  {
   "cell_type": "markdown",
   "metadata": {},
   "source": [
    "[9] Plot the accuracy value"
   ]
  },
  {
   "cell_type": "code",
   "execution_count": 286,
   "metadata": {},
   "outputs": [
    {
     "name": "stdout",
     "output_type": "stream",
     "text": [
      "Final train accuracy :  [0.99066667]\n",
      "Final test accuracy :  [0.88925]\n"
     ]
    }
   ],
   "source": [
    "print(\"Final train accuracy :  \" +np.array2string(trAcArray[NUM_EPOCH]))\n",
    "print(\"Final test accuracy :  \" +np.array2string(tAcArray[NUM_EPOCH]))"
   ]
  },
  {
   "cell_type": "markdown",
   "metadata": {},
   "source": [
    "[10] Plot the classification example"
   ]
  },
  {
   "cell_type": "code",
   "execution_count": 287,
   "metadata": {},
   "outputs": [
    {
     "name": "stdout",
     "output_type": "stream",
     "text": [
      "correct 10 images\n"
     ]
    },
    {
     "data": {
      "image/png": "[encoded data removed]",
      "text/plain": [
       "<Figure size 432x288 with 10 Axes>"
      ]
     },
     "metadata": {
      "needs_background": "light"
     },
     "output_type": "display_data"
    }
   ],
   "source": [
    "print(\"correct 10 images\")\n",
    "f1 = plt.figure(1)\n",
    "\n",
    "for i in range(10):\n",
    "\n",
    "    label       = int(correctLabel[i])\n",
    "    im_vector   = correctImage[:,i]\n",
    "    im_matrix   = im_vector.reshape((size_row, size_col))\n",
    "\n",
    "    plt.subplot(2, 5, i+1)\n",
    "    plt.title(label)\n",
    "    plt.imshow(im_matrix, cmap='Greys', interpolation='None')\n",
    "\n",
    "    frame   = plt.gca()\n",
    "    frame.axes.get_xaxis().set_visible(False)\n",
    "    frame.axes.get_yaxis().set_visible(False)\n",
    "\n",
    "plt.show()"
   ]
  },
  {
   "cell_type": "code",
   "execution_count": 288,
   "metadata": {},
   "outputs": [
    {
     "name": "stdout",
     "output_type": "stream",
     "text": [
      "wrong 10 images\n"
     ]
    },
    {
     "data": {
      "image/png": "[encoded data removed]",
      "text/plain": [
       "<Figure size 432x288 with 10 Axes>"
      ]
     },
     "metadata": {
      "needs_background": "light"
     },
     "output_type": "display_data"
    }
   ],
   "source": [
    "print(\"wrong 10 images\")\n",
    "f2 = plt.figure(1)\n",
    "\n",
    "for i in range(10):\n",
    "\n",
    "    label       = int(wrongLabel[i])\n",
    "    im_vector   = wrongImage[:,i]\n",
    "    im_matrix   = im_vector.reshape((size_row, size_col))\n",
    "\n",
    "    plt.subplot(2, 5, i+1)\n",
    "    plt.title(label)\n",
    "    plt.imshow(im_matrix, cmap='Greys', interpolation='None')\n",
    "\n",
    "    frame   = plt.gca()\n",
    "    frame.axes.get_xaxis().set_visible(False)\n",
    "    frame.axes.get_yaxis().set_visible(False)\n",
    "\n",
    "plt.show()"
   ]
  },
  {
   "cell_type": "code",
   "execution_count": null,
   "metadata": {},
   "outputs": [],
   "source": []
  }
 ],
 "metadata": {
  "kernelspec": {
   "display_name": "Python 3",
   "language": "python",
   "name": "python3"
  },
  "language_info": {
   "codemirror_mode": {
    "name": "ipython",
    "version": 3
   },
   "file_extension": ".py",
   "mimetype": "text/x-python",
   "name": "python",
   "nbconvert_exporter": "python",
   "pygments_lexer": "ipython3",
   "version": "3.7.3"
  }
 },
 "nbformat": 4,
 "nbformat_minor": 2
}

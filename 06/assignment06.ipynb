{
 "cells": [
  {
   "cell_type": "markdown",
   "metadata": {},
   "source": [
    "[1] Package import"
   ]
  },
  {
   "cell_type": "code",
   "execution_count": 13,
   "metadata": {},
   "outputs": [],
   "source": [
    "import os\n",
    "\n",
    "\n",
    "import numpy as np\n",
    "import pandas as pd\n",
    "import matplotlib.pyplot as plt\n",
    "%matplotlib inline\n",
    "\n",
    "#sigmoid function\n",
    "def sigmoid(x, derivative=False):\n",
    "    return x*(1-x) if derivative else 1/(1+np.exp(-x))\n"
   ]
  },
  {
   "cell_type": "markdown",
   "metadata": {},
   "source": [
    "[2] make array and initilize value"
   ]
  },
  {
   "cell_type": "code",
   "execution_count": 14,
   "metadata": {},
   "outputs": [],
   "source": [
    "datanum= 118\n",
    "\n",
    "epoch = 10000000\n",
    "\n",
    "# array for graph\n",
    "train_loss_Array=np.zeros((epoch,1))\n",
    "train_AC_Array=np.zeros((epoch,1))\n",
    "\n",
    "x_epoch=np.arange(epoch)\n"
   ]
  },
  {
   "cell_type": "markdown",
   "metadata": {},
   "source": [
    "[3] read train data"
   ]
  },
  {
   "cell_type": "code",
   "execution_count": 15,
   "metadata": {},
   "outputs": [],
   "source": [
    "data    = np.genfromtxt(\"data-nonlinear.txt\", delimiter=',')\n",
    "\n",
    "pointX  = data[:, 0]\n",
    "pointY  = data[:, 1]\n",
    "label   = data[:, 2]\n",
    "\n",
    "pointX0 = pointX[label == 0]\n",
    "pointY0 = pointY[label == 0]\n",
    "\n",
    "pointX1 = pointX[label == 1]\n",
    "pointY1 = pointY[label == 1]\n",
    "\n",
    "x= pointX\n",
    "y= pointY\n"
   ]
  },
  {
   "cell_type": "markdown",
   "metadata": {},
   "source": [
    "[4] Processing Gradient decent(training)"
   ]
  },
  {
   "cell_type": "code",
   "execution_count": 16,
   "metadata": {
    "scrolled": false
   },
   "outputs": [],
   "source": [
    "lr=0.001 #learning Rate\n",
    "\n",
    "W10=np.random.randn(1)*0.1\n",
    "W9=np.random.randn(1)*0.1\n",
    "W8=np.random.randn(1)*0.1\n",
    "W7=np.random.randn(1)*0.1\n",
    "W6=np.random.randn(1)*0.1\n",
    "W5=np.random.randn(1)*0.1\n",
    "W4=np.random.randn(1)*0.1\n",
    "W3=np.random.randn(1)*0.1\n",
    "W2=np.random.randn(1)*0.1\n",
    "W1=np.random.randn(1)*0.1\n",
    "W0=np.random.randn(1)*0.1\n",
    "\n",
    "W10_=np.zeros(1)\n",
    "W9_=np.zeros(1)\n",
    "W8_=np.zeros(1)\n",
    "W7_=np.zeros(1)\n",
    "W6_=np.zeros(1)\n",
    "W5_=np.zeros(1)\n",
    "W4_=np.zeros(1)\n",
    "W3_=np.zeros(1)\n",
    "W2_=np.zeros(1)\n",
    "W1_=np.zeros(1)\n",
    "W0_=np.zeros(1)\n",
    "\n",
    "for iter in range(epoch):\n",
    "    \n",
    "    \n",
    "    \n",
    "    #calculate the train loss\n",
    "    z =W0 + W1 * x + W2 * y + W3 * (x ** 2) + W4 * (y ** 2) + W5 * (x**3) + W6 * (y**3) + W7 * (x**4) + W8 * (y**4) + W9 * (x**5) + W10 *(y ** 5)\n",
    "    h =sigmoid(z)\n",
    "    loss=-(label*np.log(h)+(1-label)*np.log(1-h))\n",
    "#     print(loss)\n",
    "    loss=1/datanum*np.sum(loss)\n",
    "#     print(loss)\n",
    "    train_loss_Array[iter]=loss\n",
    "    \n",
    "    trainPY=np.where(h>=0.5,1.,0.)\n",
    "    ac=((trainPY == label).sum())/datanum\n",
    "    train_AC_Array[iter]=ac\n",
    "        \n",
    "\n",
    "    W0_ = 1/datanum*np.sum(h-label)\n",
    "    W1_ = 1/datanum*np.sum((h-label)*x)\n",
    "    W2_ = 1/datanum*np.sum((h-label)*y)\n",
    "    W3_ = 1/datanum*np.sum((h-label)*(x**2))\n",
    "    W4_ = 1/datanum*np.sum((h-label)*(y**2))\n",
    "    W5_ = 1/datanum*np.sum((h-label)*(x**3))\n",
    "    W6_ = 1/datanum*np.sum((h-label)*(y**3))\n",
    "    W7_ = 1/datanum*np.sum((h-label)*(x**4))\n",
    "    W8_ = 1/datanum*np.sum((h-label)*(y**4))\n",
    "    W9_ = 1/datanum*np.sum((h-label)*(x**5))\n",
    "    W10_ = 1/datanum*np.sum((h-label)*(y**5))\n",
    "    \n",
    "\n",
    "    # update the parameters\n",
    "    W0 = W0 - W0_ * lr\n",
    "    W1 = W1 - W1_ * lr\n",
    "    W2 = W2 - W2_ * lr\n",
    "    W3 = W3 - W3_ * lr\n",
    "    W4 = W4 - W4_ * lr\n",
    "    W5 = W5 - W5_ * lr\n",
    "    W6 = W6 - W6_ * lr\n",
    "    W7 = W7 - W7_ * lr\n",
    "    W8 = W8 - W8_ * lr\n",
    "    W9 = W9 - W9_ * lr\n",
    "    W10 = W10 - W10_ * lr\n",
    "    \n",
    " "
   ]
  },
  {
   "cell_type": "markdown",
   "metadata": {},
   "source": [
    "5. Plot the training data"
   ]
  },
  {
   "cell_type": "code",
   "execution_count": 20,
   "metadata": {},
   "outputs": [
    {
     "data": {
      "image/png": "[encoded data removed]",
      "text/plain": [
       "<Figure size 576x576 with 1 Axes>"
      ]
     },
     "metadata": {
      "needs_background": "light"
     },
     "output_type": "display_data"
    }
   ],
   "source": [
    "plt.figure(figsize=(8, 8))\n",
    "plt.scatter(pointX0, pointY0, c='b')\n",
    "plt.scatter(pointX1, pointY1, c='r')\n",
    "plt.gca().set_aspect('equal', adjustable='box')\n",
    "plt.show()"
   ]
  },
  {
   "cell_type": "markdown",
   "metadata": {},
   "source": [
    "Write down the high dimensional function g(x,y;θ)"
   ]
  },
  {
   "cell_type": "markdown",
   "metadata": {},
   "source": []
  },
  {
   "cell_type": "markdown",
   "metadata": {},
   "source": [
    "[7] plotting training loss"
   ]
  },
  {
   "cell_type": "code",
   "execution_count": 30,
   "metadata": {},
   "outputs": [
    {
     "data": {
      "image/png": "[encoded data removed]",
      "text/plain": [
       "<Figure size 576x576 with 1 Axes>"
      ]
     },
     "metadata": {
      "needs_background": "light"
     },
     "output_type": "display_data"
    }
   ],
   "source": [
    "plt.figure(figsize=(8, 8))\n",
    "plt.scatter(x_epoch,train_loss_Array,c=\"b\",s=2)\n",
    "plt.show()"
   ]
  },
  {
   "cell_type": "markdown",
   "metadata": {},
   "source": [
    "Plot the training accuracy"
   ]
  },
  {
   "cell_type": "code",
   "execution_count": 19,
   "metadata": {},
   "outputs": [
    {
     "data": {
      "image/png": "[encoded data removed]",
      "text/plain": [
       "<Figure size 576x576 with 1 Axes>"
      ]
     },
     "metadata": {
      "needs_background": "light"
     },
     "output_type": "display_data"
    }
   ],
   "source": [
    "plt.figure(figsize=(8, 8))\n",
    "plt.scatter(x_epoch,train_AC_Array,c=\"b\",s=2)\n",
    "plt.show()"
   ]
  },
  {
   "cell_type": "markdown",
   "metadata": {},
   "source": [
    "Write down the final training accuracy"
   ]
  },
  {
   "cell_type": "code",
   "execution_count": 23,
   "metadata": {},
   "outputs": [
    {
     "name": "stdout",
     "output_type": "stream",
     "text": [
      "final training AC is :\n",
      "[0.77966102]\n"
     ]
    }
   ],
   "source": [
    "print(\"final training AC is :\" )\n",
    "print(train_AC_Array[epoch-1])"
   ]
  },
  {
   "cell_type": "markdown",
   "metadata": {},
   "source": [
    "Plot the optimal classifier superimposed on the training data "
   ]
  },
  {
   "cell_type": "code",
   "execution_count": 29,
   "metadata": {},
   "outputs": [
    {
     "data": {
      "image/png": "[encoded data removed]",
      "text/plain": [
       "<Figure size 576x576 with 1 Axes>"
      ]
     },
     "metadata": {
      "needs_background": "light"
     },
     "output_type": "display_data"
    }
   ],
   "source": [
    "x_ = np.arange(-1.0, 1.25, 0.05)\n",
    "y_ = np.arange(-1.0, 1.25, 0.05)\n",
    "X, Y = np.meshgrid(x_, y_)\n",
    "Z =W0 + W1 * X + W2 * Y + W3 * (X ** 2) + W4 * (Y ** 2) + W5 * (X**3) + W6 * (Y**3) + W7 * (X**4) + W8 * (Y**4) + W9 * (X**5) + W10 *(Y ** 5)\n",
    "\n",
    "\n",
    "plt.figure(figsize=(8, 8))\n",
    "plt.scatter(pointX0, pointY0, c='b')\n",
    "plt.scatter(pointX1, pointY1, c='r')\n",
    "plt.gca().set_aspect('equal', adjustable='box')\n",
    "plt.contour(X, Y, Z,levels=0)\n",
    "plt.show()"
   ]
  },
  {
   "cell_type": "code",
   "execution_count": null,
   "metadata": {},
   "outputs": [],
   "source": []
  }
 ],
 "metadata": {
  "kernelspec": {
   "display_name": "Python 3",
   "language": "python",
   "name": "python3"
  },
  "language_info": {
   "codemirror_mode": {
    "name": "ipython",
    "version": 3
   },
   "file_extension": ".py",
   "mimetype": "text/x-python",
   "name": "python",
   "nbconvert_exporter": "python",
   "pygments_lexer": "ipython3",
   "version": "3.7.3"
  }
 },
 "nbformat": 4,
 "nbformat_minor": 2
}

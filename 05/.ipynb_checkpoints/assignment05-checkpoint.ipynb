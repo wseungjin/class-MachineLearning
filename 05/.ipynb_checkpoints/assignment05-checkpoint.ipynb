{
 "cells": [
  {
   "cell_type": "markdown",
   "metadata": {},
   "source": [
    "1. Package import"
   ]
  },
  {
   "cell_type": "code",
   "execution_count": 1,
   "metadata": {},
   "outputs": [],
   "source": [
    "import os\n",
    "\n",
    "\n",
    "import numpy as np\n",
    "import pandas as pd\n",
    "import matplotlib.pyplot as plt\n",
    "%matplotlib inline"
   ]
  },
  {
   "cell_type": "markdown",
   "metadata": {},
   "source": [
    "2. make array and initilize value"
   ]
  },
  {
   "cell_type": "code",
   "execution_count": 2,
   "metadata": {},
   "outputs": [],
   "source": [
    "datanum= 100\n",
    "\n",
    "epoch = 20000\n",
    "\n",
    "# array for graph\n",
    "train_loss_Array=np.zeros((epoch,1))\n",
    "\n",
    "W2_Array=np.zeros((epoch,1))\n",
    "W1_Array=np.zeros((epoch,1))\n",
    "W0_Array=np.zeros((epoch,1))\n",
    "\n",
    "x_epoch=np.arange(epoch)\n",
    "\n",
    "# # dot for gradient decent\n",
    "# train_X_x =np.zeros((datanum,1))\n",
    "# train_X_y =np.zeros((datanum,1))\n",
    "# train_X_z =np.zeros((datanum,1))\n",
    "# train_Y =np.zeros((datanum,1))\n",
    "\n",
    "# test_X_x =np.zeros((datanum,1))\n",
    "# test_X_y =np.zeros((datanum,1))\n",
    "# test_X_z =np.zeros((datanum,1))\n",
    "# test_Y =np.zeros((datanum,1))\n",
    "\n",
    "\n"
   ]
  },
  {
   "cell_type": "markdown",
   "metadata": {},
   "source": [
    "3. read train data"
   ]
  },
  {
   "cell_type": "code",
   "execution_count": 4,
   "metadata": {},
   "outputs": [
    {
     "name": "stdout",
     "output_type": "stream",
     "text": [
      "(100,)\n",
      "(40,)\n",
      "(60,)\n"
     ]
    },
    {
     "data": {
      "image/png": "[encoded data removed]",
      "text/plain": [
       "<Figure size 576x576 with 1 Axes>"
      ]
     },
     "metadata": {
      "needs_background": "light"
     },
     "output_type": "display_data"
    }
   ],
   "source": [
    "\n",
    "data    = np.genfromtxt(\"data.txt\", delimiter=',')\n",
    "\n",
    "x       = data[:, 0]\n",
    "y       = data[:, 1]\n",
    "label   = data[:, 2]\n",
    "\n",
    "x_label0    = x[label == 0]\n",
    "x_label1    = x[label == 1]\n",
    "\n",
    "y_label0    = y[label == 0]\n",
    "y_label1    = y[label == 1]\n"
   ]
  },
  {
   "cell_type": "markdown",
   "metadata": {},
   "source": [
    "4. Processing Gradient decent(training) and getting tr and test loss "
   ]
  },
  {
   "cell_type": "code",
   "execution_count": 18,
   "metadata": {
    "scrolled": false
   },
   "outputs": [],
   "source": [
    "lr=0.0001 #learning Rate\n",
    "\n",
    "W2=np.random.randn(1)*0.1\n",
    "W1=np.random.randn(1)*0.1\n",
    "W0=np.random.randn(1)*0.1\n",
    "\n",
    "W2_=np.zeros(1)\n",
    "W1_=np.zeros(1)\n",
    "W0_=np.zeros(1)\n",
    "\n",
    "for iter in range(epoch):\n",
    "    \n",
    "    \n",
    "    #calculate the train loss\n",
    "    \n",
    "    z=W0 + W1 * x + W2 * y\n",
    "    h= 1/(1+n)\n",
    "    loss=(value)*(value) \n",
    "    loss=1/(datanum)*np.sum(loss)\n",
    "    train_loss_Array[iter]=loss\n",
    "    \n",
    "#     print(\"train\")\n",
    "#     print(loss)\n",
    "\n",
    "\n",
    "    W0_ = 1/datanum*np.sum(value)\n",
    "    W1_ = 1/datanum*np.sum(value*train_X_x)\n",
    "    W2_ = 1/datanum*np.sum(value*train_X_y)\n",
    "\n",
    "#     print(W_)\n",
    "#     print(W)\n",
    "    # update the parameters\n",
    "    W0 = W0 - W0_ * lr\n",
    "    W1 = W1 - W1_ * lr\n",
    "    W2 = W2 - W2_ * lr\n",
    "    \n",
    "    W0_Array[iter] = W0\n",
    "    W1_Array[iter] = W1\n",
    "    W2_Array[iter] = W2\n",
    " "
   ]
  },
  {
   "cell_type": "markdown",
   "metadata": {},
   "source": [
    "5. Plot the training data"
   ]
  },
  {
   "cell_type": "code",
   "execution_count": null,
   "metadata": {},
   "outputs": [],
   "source": [
    "plt.figure(figsize=(8, 8))\n",
    "plt.scatter(x_label0, y_label0, alpha=0.3, c='b')\n",
    "plt.scatter(x_label1, y_label1, alpha=0.3, c='r')\n",
    "plt.show()"
   ]
  },
  {
   "cell_type": "markdown",
   "metadata": {},
   "source": [
    "5. plotting the parameters"
   ]
  },
  {
   "cell_type": "code",
   "execution_count": 19,
   "metadata": {},
   "outputs": [
    {
     "data": {
      "image/png": "[encoded data removed]",
      "text/plain": [
       "<Figure size 432x288 with 1 Axes>"
      ]
     },
     "metadata": {
      "needs_background": "light"
     },
     "output_type": "display_data"
    }
   ],
   "source": [
    "plt.scatter(x_epoch,W0_Array,c=\"black\",s=2)\n",
    "plt.scatter(x_epoch,W1_Array,c=\"red\",s=2)\n",
    "plt.scatter(x_epoch,W2_Array,c=\"green\",s=2)\n",
    "plt.scatter(x_epoch,W3_Array,c=\"blue\",s=2)\n",
    "\n",
    "plt.show()"
   ]
  },
  {
   "cell_type": "markdown",
   "metadata": {},
   "source": [
    "6. plotting training loss"
   ]
  },
  {
   "cell_type": "code",
   "execution_count": 20,
   "metadata": {},
   "outputs": [
    {
     "data": {
      "image/png": "[encoded data removed]",
      "text/plain": [
       "<Figure size 432x288 with 1 Axes>"
      ]
     },
     "metadata": {
      "needs_background": "light"
     },
     "output_type": "display_data"
    }
   ],
   "source": [
    "plt.scatter(x_epoch,train_loss_Array,c=\"b\",s=2)\n",
    "plt.show()"
   ]
  },
  {
   "cell_type": "markdown",
   "metadata": {},
   "source": [
    "7. plotting testing loss"
   ]
  },
  {
   "cell_type": "code",
   "execution_count": 21,
   "metadata": {},
   "outputs": [
    {
     "data": {
      "image/png": "[encoded data removed]",
      "text/plain": [
       "<Figure size 432x288 with 1 Axes>"
      ]
     },
     "metadata": {
      "needs_background": "light"
     },
     "output_type": "display_data"
    }
   ],
   "source": [
    "plt.scatter(x_epoch,test_loss_Array,c=\"red\",s=2)\n",
    "plt.show()"
   ]
  },
  {
   "cell_type": "code",
   "execution_count": null,
   "metadata": {},
   "outputs": [],
   "source": []
  },
  {
   "cell_type": "code",
   "execution_count": null,
   "metadata": {},
   "outputs": [],
   "source": []
  }
 ],
 "metadata": {
  "kernelspec": {
   "display_name": "Python 3",
   "language": "python",
   "name": "python3"
  },
  "language_info": {
   "codemirror_mode": {
    "name": "ipython",
    "version": 3
   },
   "file_extension": ".py",
   "mimetype": "text/x-python",
   "name": "python",
   "nbconvert_exporter": "python",
   "pygments_lexer": "ipython3",
   "version": "3.7.3"
  }
 },
 "nbformat": 4,
 "nbformat_minor": 2
}

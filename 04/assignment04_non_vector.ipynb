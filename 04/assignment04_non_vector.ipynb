{
 "cells": [
  {
   "cell_type": "markdown",
   "metadata": {},
   "source": [
    "1. Package import"
   ]
  },
  {
   "cell_type": "code",
   "execution_count": 46,
   "metadata": {},
   "outputs": [],
   "source": [
    "import os\n",
    "\n",
    "\n",
    "import numpy as np\n",
    "import pandas as pd\n",
    "import matplotlib.pyplot as plt\n",
    "%matplotlib inline"
   ]
  },
  {
   "cell_type": "markdown",
   "metadata": {},
   "source": [
    "2. make array and initilize value"
   ]
  },
  {
   "cell_type": "code",
   "execution_count": 47,
   "metadata": {},
   "outputs": [],
   "source": [
    "datanum= 300\n",
    "\n",
    "epoch = 200000\n",
    "\n",
    "# array for graph\n",
    "train_loss_Array=np.zeros((epoch,1))\n",
    "test_loss_Array=np.zeros((epoch,1))\n",
    "\n",
    "W3_Array=np.zeros((epoch,1))\n",
    "W2_Array=np.zeros((epoch,1))\n",
    "W1_Array=np.zeros((epoch,1))\n",
    "W0_Array=np.zeros((epoch,1))\n",
    "\n",
    "x_epoch=np.arange(epoch)\n",
    "\n",
    "# dot for gradient decent\n",
    "train_X_x =np.zeros((datanum,1))\n",
    "train_X_y =np.zeros((datanum,1))\n",
    "train_X_z =np.zeros((datanum,1))\n",
    "train_Y =np.zeros((datanum,1))\n",
    "\n",
    "test_X_x =np.zeros((datanum,1))\n",
    "test_X_y =np.zeros((datanum,1))\n",
    "test_X_z =np.zeros((datanum,1))\n",
    "test_Y =np.zeros((datanum,1))\n",
    "\n",
    "\n"
   ]
  },
  {
   "cell_type": "markdown",
   "metadata": {},
   "source": [
    "3. read train and test data"
   ]
  },
  {
   "cell_type": "code",
   "execution_count": 48,
   "metadata": {},
   "outputs": [],
   "source": [
    "import csv\n",
    "\n",
    "with open('data_train.csv', newline='') as myfile:\n",
    "    reader  = csv.reader(myfile, delimiter=',')\n",
    "    ct = 0 \n",
    "    for i in reader:\n",
    "        train_X_x[ct]=i[0]\n",
    "        train_X_y[ct]=i[1]\n",
    "        train_X_z[ct]=i[2]\n",
    "        train_Y[ct]=i[3]\n",
    "        ct += 1\n",
    "\n",
    "with open('data_test.csv', newline='') as myfile:\n",
    "    reader  = csv.reader(myfile, delimiter=',')\n",
    "    ct = 0 \n",
    "    for i in reader:\n",
    "        test_X_x[ct]=i[0]\n",
    "        test_X_y[ct]=i[1]\n",
    "        test_X_z[ct]=i[2]\n",
    "        test_Y[ct]=i[3]\n",
    "        ct += 1\n",
    "        "
   ]
  },
  {
   "cell_type": "markdown",
   "metadata": {},
   "source": [
    "4. Processing Gradient decent(training)"
   ]
  },
  {
   "cell_type": "code",
   "execution_count": 49,
   "metadata": {
    "scrolled": false
   },
   "outputs": [],
   "source": [
    "lr=0.0000005 #learning Rate\n",
    "\n",
    "W3=np.random.randn(1)*0.1\n",
    "W2=np.random.randn(1)*0.1\n",
    "W1=np.random.randn(1)*0.1\n",
    "W0=np.random.randn(1)*0.1\n",
    "\n",
    "W3_=np.zeros(1)\n",
    "W2_=np.zeros(1)\n",
    "W1_=np.zeros(1)\n",
    "W0_=np.zeros(1)\n",
    "\n",
    "for iter in range(epoch):\n",
    "    \n",
    "    \n",
    "    #calculate the train loss\n",
    "    value= W0+W1*train_X_x+W2*train_X_y+W3*train_X_z-train_Y\n",
    "    loss=(value)*(value) \n",
    "    loss=1/(2*datanum)*np.sum(loss)\n",
    "    train_loss_Array[iter]=loss\n",
    "    \n",
    "#     print(\"train\")\n",
    "#     print(loss)\n",
    "    \n",
    "    #calculate the train loss\n",
    "    value= W0+W1*test_X_x+W2*test_X_y+W3*test_X_z-test_Y\n",
    "    loss=(value)*(value) \n",
    "    loss=1/(2*datanum)*np.sum(loss)\n",
    "    test_loss_Array[iter]=loss\n",
    "    \n",
    "#     print(\"test\")\n",
    "#     print(loss)\n",
    "\n",
    "    value= W0+W1*train_X_x+W2*train_X_y+W3*train_X_z-train_Y\n",
    "    W0_ = 1/datanum*np.sum(value)\n",
    "    W1_ = 1/datanum*np.sum(value*train_X_x)\n",
    "    W2_ = 1/datanum*np.sum(value*train_X_y)\n",
    "    W3_ = 1/datanum*np.sum(value*train_X_z)\n",
    "\n",
    "#     print(W_)\n",
    "#     print(W)\n",
    "    # update the parameters\n",
    "    W0 = W0 - W0_ * lr\n",
    "    W1 = W1 - W1_ * lr\n",
    "    W2 = W2 - W2_ * lr\n",
    "    W3 = W3 - W3_ * lr\n",
    "    \n",
    "    W0_Array[iter] = W0\n",
    "    W1_Array[iter] = W1\n",
    "    W2_Array[iter] = W2\n",
    "    W3_Array[iter] = W3\n",
    " "
   ]
  },
  {
   "cell_type": "markdown",
   "metadata": {},
   "source": [
    "5. plotting the input data"
   ]
  },
  {
   "cell_type": "code",
   "execution_count": 50,
   "metadata": {},
   "outputs": [
    {
     "data": {
      "image/png": "[encoded data removed]",
      "text/plain": [
       "<Figure size 432x288 with 1 Axes>"
      ]
     },
     "metadata": {
      "needs_background": "light"
     },
     "output_type": "display_data"
    }
   ],
   "source": [
    "plt.scatter(x_epoch,W0_Array,c=\"black\",s=2)\n",
    "plt.scatter(x_epoch,W1_Array,c=\"red\",s=2)\n",
    "plt.scatter(x_epoch,W2_Array,c=\"green\",s=2)\n",
    "plt.scatter(x_epoch,W3_Array,c=\"blue\",s=2)\n",
    "\n",
    "plt.show()"
   ]
  },
  {
   "cell_type": "markdown",
   "metadata": {},
   "source": [
    "6. plotting the output results"
   ]
  },
  {
   "cell_type": "code",
   "execution_count": 51,
   "metadata": {},
   "outputs": [
    {
     "data": {
      "image/png": "[encoded data removed]",
      "text/plain": [
       "<Figure size 432x288 with 1 Axes>"
      ]
     },
     "metadata": {
      "needs_background": "light"
     },
     "output_type": "display_data"
    }
   ],
   "source": [
    "plt.scatter(x_epoch,train_loss_Array,c=\"b\",s=2)\n",
    "plt.show()"
   ]
  },
  {
   "cell_type": "markdown",
   "metadata": {},
   "source": [
    "7. plotting the energy values"
   ]
  },
  {
   "cell_type": "code",
   "execution_count": 52,
   "metadata": {},
   "outputs": [
    {
     "data": {
      "image/png": "[encoded data removed]",
      "text/plain": [
       "<Figure size 432x288 with 1 Axes>"
      ]
     },
     "metadata": {
      "needs_background": "light"
     },
     "output_type": "display_data"
    }
   ],
   "source": [
    "plt.scatter(x_epoch,test_loss_Array,c=\"b\",s=2)\n",
    "plt.show()"
   ]
  },
  {
   "cell_type": "code",
   "execution_count": null,
   "metadata": {},
   "outputs": [],
   "source": []
  },
  {
   "cell_type": "code",
   "execution_count": null,
   "metadata": {},
   "outputs": [],
   "source": []
  },
  {
   "cell_type": "code",
   "execution_count": null,
   "metadata": {},
   "outputs": [],
   "source": []
  }
 ],
 "metadata": {
  "kernelspec": {
   "display_name": "Python 3",
   "language": "python",
   "name": "python3"
  },
  "language_info": {
   "codemirror_mode": {
    "name": "ipython",
    "version": 3
   },
   "file_extension": ".py",
   "mimetype": "text/x-python",
   "name": "python",
   "nbconvert_exporter": "python",
   "pygments_lexer": "ipython3",
   "version": "3.7.3"
  }
 },
 "nbformat": 4,
 "nbformat_minor": 2
}

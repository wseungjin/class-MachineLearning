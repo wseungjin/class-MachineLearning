{
 "cells": [
  {
   "cell_type": "markdown",
   "metadata": {},
   "source": [
    "[1] Package import"
   ]
  },
  {
   "cell_type": "code",
   "execution_count": 181,
   "metadata": {},
   "outputs": [],
   "source": [
    "import os\n",
    "\n",
    "\n",
    "import numpy as np\n",
    "import pandas as pd\n",
    "import matplotlib.pyplot as plt\n",
    "%matplotlib inline\n",
    "\n",
    "#sigmoid function\n",
    "def sigmoid(x, derivative=False):\n",
    "    return x*(1-x) if derivative else 1/(1+np.exp(-x))\n"
   ]
  },
  {
   "cell_type": "markdown",
   "metadata": {},
   "source": [
    "[2] read data"
   ]
  },
  {
   "cell_type": "code",
   "execution_count": 182,
   "metadata": {},
   "outputs": [],
   "source": [
    "file_data   = \"mnist_test.csv\"\n",
    "handle_file = open(file_data, \"r\")\n",
    "data        = handle_file.readlines()\n",
    "handle_file.close()\n",
    "\n",
    "size_row    = 28    # height of the image\n",
    "size_col    = 28    # width of the image\n",
    "\n",
    "num_image   = len(data)\n",
    "\n",
    "count       = 0     # count for the number of images\n",
    "\n",
    "#\n",
    "# make a matrix each column of which represents an images in a vector form \n",
    "#\n",
    "list_image  = np.empty((size_row * size_col, num_image), dtype=float)\n",
    "list_label  = np.empty(num_image, dtype=int)\n",
    "\n",
    "for line in data:\n",
    "\n",
    "    line_data   = line.split(',')\n",
    "    label       = line_data[0]\n",
    "    im_vector   = np.asfarray(line_data[1:])\n",
    "\n",
    "    list_label[count]       = label\n",
    "    list_image[:, count]    = im_vector    \n",
    "\n",
    "    count += 1"
   ]
  },
  {
   "cell_type": "markdown",
   "metadata": {},
   "source": [
    "[3] sort and calculate average image and calculate the result"
   ]
  },
  {
   "cell_type": "code",
   "execution_count": 183,
   "metadata": {},
   "outputs": [],
   "source": [
    "arr = list_label.argsort()\n",
    "sorted_list_label = list_label[arr]\n",
    "sorted_list_image = list_image[:,arr]  \n",
    "\n",
    "list_label = sorted_list_label\n",
    "list_image = sorted_list_image\n",
    "\n",
    "label = 0\n",
    "label_num = [0] * 10  \n",
    "average_array = np.zeros((784,10))  \n",
    "result_array = np.zeros(10)  \n",
    "\n",
    "theta = np.random.normal(size=784)\n",
    "\n",
    "for i in range(len(list_label)):\n",
    "    if(label == list_label[i]):\n",
    "        label_num [label] = label_num[label] + 1\n",
    "    else: \n",
    "        label = label +1\n",
    "        label_num [label] = label_num[label] + 1\n",
    "\n",
    "count = 0 \n",
    "for i,l in enumerate(label_num):\n",
    "    #calculate average image\n",
    "    average_array[:,i]=np.mean(list_image[:,count:count+l],axis=1)\n",
    "    \n",
    "    #calculate average result\n",
    "    result_array[i] = np.mean(sigmoid(np.dot(theta,list_image[:,count:count+l])))\n",
    "    count = count + l\n",
    "\n",
    "    "
   ]
  },
  {
   "cell_type": "markdown",
   "metadata": {},
   "source": [
    "[4] Plot the average image"
   ]
  },
  {
   "cell_type": "code",
   "execution_count": 184,
   "metadata": {
    "scrolled": false
   },
   "outputs": [
    {
     "data": {
      "image/png": "[encoded data removed]",
      "text/plain": [
       "<Figure size 432x288 with 10 Axes>"
      ]
     },
     "metadata": {
      "needs_background": "light"
     },
     "output_type": "display_data"
    }
   ],
   "source": [
    "f1 = plt.figure(1)\n",
    "\n",
    "for i in range(10):\n",
    "\n",
    "    label       = i\n",
    "    im_vector   = average_array[:,i]\n",
    "    im_matrix   = im_vector.reshape((size_row, size_col))\n",
    "\n",
    "    plt.subplot(2, 5, i+1)\n",
    "    plt.title(label)\n",
    "    plt.imshow(im_matrix, cmap='Greys', interpolation='None')\n",
    "\n",
    "    frame   = plt.gca()\n",
    "    frame.axes.get_xaxis().set_visible(False)\n",
    "    frame.axes.get_yaxis().set_visible(False)\n",
    "\n",
    "plt.show()\n"
   ]
  },
  {
   "cell_type": "markdown",
   "metadata": {},
   "source": [
    "[5] Present the output of the neural network with random weights"
   ]
  },
  {
   "cell_type": "code",
   "execution_count": 185,
   "metadata": {},
   "outputs": [
    {
     "name": "stdout",
     "output_type": "stream",
     "text": [
      "label : 0  result average : 0.8418503986081303\n",
      "label : 1  result average : 0.6699816964651836\n",
      "label : 2  result average : 0.3064986703558315\n",
      "label : 3  result average : 0.7000530511049452\n",
      "label : 4  result average : 0.07332380232656603\n",
      "label : 5  result average : 0.686107097541605\n",
      "label : 6  result average : 0.3601494155332426\n",
      "label : 7  result average : 0.15380256617760046\n",
      "label : 8  result average : 0.4975345750848889\n",
      "label : 9  result average : 0.11297559490948593\n"
     ]
    }
   ],
   "source": [
    "for i in range(len(result_array)):\n",
    "    print(\"label : \"+str(i) + \"  result average : \"+str(result_array[i])) "
   ]
  },
  {
   "cell_type": "code",
   "execution_count": null,
   "metadata": {},
   "outputs": [],
   "source": []
  }
 ],
 "metadata": {
  "kernelspec": {
   "display_name": "Python 3",
   "language": "python",
   "name": "python3"
  },
  "language_info": {
   "codemirror_mode": {
    "name": "ipython",
    "version": 3
   },
   "file_extension": ".py",
   "mimetype": "text/x-python",
   "name": "python",
   "nbconvert_exporter": "python",
   "pygments_lexer": "ipython3",
   "version": "3.7.3"
  }
 },
 "nbformat": 4,
 "nbformat_minor": 2
}

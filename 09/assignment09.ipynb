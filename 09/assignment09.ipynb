{
 "cells": [
  {
   "cell_type": "markdown",
   "metadata": {},
   "source": [
    "[1] Package import"
   ]
  },
  {
   "cell_type": "code",
   "execution_count": 100,
   "metadata": {},
   "outputs": [],
   "source": [
    "import os\n",
    "\n",
    "\n",
    "import numpy as np\n",
    "import pandas as pd\n",
    "import matplotlib.pyplot as plt\n",
    "%matplotlib inline"
   ]
  },
  {
   "cell_type": "markdown",
   "metadata": {},
   "source": [
    "[2] functions   "
   ]
  },
  {
   "cell_type": "code",
   "execution_count": 104,
   "metadata": {},
   "outputs": [],
   "source": [
    "#activation function\n",
    "#sigmoid function\n",
    "def sigmoid(x, derivative=False):\n",
    "    return x*(1-x) if derivative else 1/(1+np.exp(-x))\n",
    "\n",
    "#\n",
    "# normalize the values of the input data to be [0, 1]\n",
    "#\n",
    "def normalize(data):\n",
    "\n",
    "    data_normalized = (data - min(data)) / (max(data) - min(data))\n",
    "\n",
    "    return(data_normalized)\n",
    "\n",
    "#\n",
    "# example of distance function between two vectors x and y\n",
    "#\n",
    "def distance(x, y):\n",
    "\n",
    "    d = (x - y) ** 2\n",
    "    s = np.sum(d)\n",
    "    # r = np.sqrt(s)\n",
    "\n",
    "    return(s)\n"
   ]
  },
  {
   "cell_type": "markdown",
   "metadata": {},
   "source": [
    "[3] read data"
   ]
  },
  {
   "cell_type": "code",
   "execution_count": 102,
   "metadata": {},
   "outputs": [],
   "source": [
    "file_data   = \"mnist.csv\"\n",
    "handle_file = open(file_data, \"r\")\n",
    "data        = handle_file.readlines()\n",
    "handle_file.close()\n",
    "\n",
    "size_row    = 28    # height of the image\n",
    "size_col    = 28    # width of the image\n",
    "\n",
    "num_image   = len(data)\n",
    "count       = 0     # count for the number of images\n",
    "\n",
    "#\n",
    "# make a matrix each column of which represents an images in a vector form \n",
    "#\n",
    "list_image  = np.empty((size_row * size_col, num_image), dtype=float)\n",
    "list_label  = np.empty(num_image, dtype=int)\n",
    "\n",
    "for line in data:\n",
    "\n",
    "    line_data   = line.split(',')\n",
    "    label       = line_data[0]\n",
    "    im_vector   = np.asfarray(line_data[1:])\n",
    "    im_vector   = normalize(im_vector)\n",
    "\n",
    "    list_label[count]       = label\n",
    "    list_image[:, count]    = im_vector    \n",
    "\n",
    "    count += 1\n",
    "    \n",
    "    \n",
    "#Datanum\n",
    "trDataNum=6000\n",
    "tDataNum=4000\n",
    "    \n",
    "trainX = list_image[:,0:6000] \n",
    "trainY = list_label[0:6000] \n",
    "testX =  list_image[:,6000:10000] \n",
    "testY = list_label[6000:10000]\n",
    "\n",
    "trainY =trainY.reshape((1,6000))\n",
    "testY =testY.reshape((1,4000))\n"
   ]
  },
  {
   "cell_type": "markdown",
   "metadata": {},
   "source": [
    "[3] sort and calculate average image and calculate the result"
   ]
  },
  {
   "cell_type": "code",
   "execution_count": 103,
   "metadata": {},
   "outputs": [
    {
     "name": "stdout",
     "output_type": "stream",
     "text": [
      "(196, 784)\n"
     ]
    }
   ],
   "source": [
    "# Epoch num\n",
    "NUM_EPOCH=10000\n",
    "\n",
    "#Array for writing loss, accuracy\n",
    "trLossArray=np.zeros((NUM_EPOCH+1,1))\n",
    "tLossArray=np.zeros((NUM_EPOCH+1,1))\n",
    "trAcArray=np.zeros((NUM_EPOCH+1,1))\n",
    "tAcArray=np.zeros((NUM_EPOCH+1,1))\n",
    "\n",
    "lr=0.01 #learning Rate\n",
    "\n",
    "#weight\n",
    "\n",
    "np.random.seed(0)\n",
    "\n",
    "u=0.01*np.random.randn(196,784)#layer 1 weight (input : input feature) \n",
    "\n",
    "v=0.01*np.random.randn(49,196)#layer 2 weight (input: w1 output feature) \n",
    "\n",
    "w=0.01*np.random.randn(10,49)#layer 3  weight (input :w2 output feature) \n",
    "\n",
    "#bias \n",
    "a=np.zeros((1,1))#layer 1  bias \n",
    "\n",
    "b=np.zeros((1,1))#layer 2 bias \n",
    "\n",
    "c=np.zeros((1,1))#layer 3 bias \n",
    "\n",
    "#X for drawing the graph\n",
    "x_=np.arange(NUM_EPOCH+1)#X"
   ]
  },
  {
   "cell_type": "markdown",
   "metadata": {},
   "source": [
    "[4] Plot the average image"
   ]
  },
  {
   "cell_type": "code",
   "execution_count": 99,
   "metadata": {
    "scrolled": false
   },
   "outputs": [
    {
     "ename": "ValueError",
     "evalue": "shapes (49,10) and (1,6000) not aligned: 10 (dim 1) != 1 (dim 0)",
     "output_type": "error",
     "traceback": [
      "\u001b[0;31m---------------------------------------------------------------------------\u001b[0m",
      "\u001b[0;31mValueError\u001b[0m                                Traceback (most recent call last)",
      "\u001b[0;32m<ipython-input-99-0b6fff94de7f>\u001b[0m in \u001b[0;36m<module>\u001b[0;34m\u001b[0m\n\u001b[1;32m     55\u001b[0m     \u001b[0mdc\u001b[0m\u001b[0;34m=\u001b[0m\u001b[0;36m1\u001b[0m\u001b[0;34m/\u001b[0m\u001b[0mtrDataNum\u001b[0m\u001b[0;34m*\u001b[0m\u001b[0mnp\u001b[0m\u001b[0;34m.\u001b[0m\u001b[0msum\u001b[0m\u001b[0;34m(\u001b[0m\u001b[0mdz3\u001b[0m\u001b[0;34m,\u001b[0m\u001b[0maxis\u001b[0m\u001b[0;34m=\u001b[0m\u001b[0;36m1\u001b[0m\u001b[0;34m,\u001b[0m\u001b[0mkeepdims\u001b[0m\u001b[0;34m=\u001b[0m\u001b[0;32mTrue\u001b[0m\u001b[0;34m)\u001b[0m\u001b[0;34m\u001b[0m\u001b[0;34m\u001b[0m\u001b[0m\n\u001b[1;32m     56\u001b[0m \u001b[0;34m\u001b[0m\u001b[0m\n\u001b[0;32m---> 57\u001b[0;31m     \u001b[0mdz2\u001b[0m\u001b[0;34m=\u001b[0m\u001b[0mnp\u001b[0m\u001b[0;34m.\u001b[0m\u001b[0mmultiply\u001b[0m\u001b[0;34m(\u001b[0m\u001b[0mnp\u001b[0m\u001b[0;34m.\u001b[0m\u001b[0mdot\u001b[0m\u001b[0;34m(\u001b[0m\u001b[0mw\u001b[0m\u001b[0;34m.\u001b[0m\u001b[0mT\u001b[0m\u001b[0;34m,\u001b[0m\u001b[0mdz3\u001b[0m\u001b[0;34m)\u001b[0m\u001b[0;34m,\u001b[0m\u001b[0mtrA2\u001b[0m\u001b[0;34m*\u001b[0m\u001b[0;34m(\u001b[0m\u001b[0;36m1.0\u001b[0m\u001b[0;34m-\u001b[0m\u001b[0mtrA2\u001b[0m\u001b[0;34m)\u001b[0m\u001b[0;34m)\u001b[0m\u001b[0;34m\u001b[0m\u001b[0;34m\u001b[0m\u001b[0m\n\u001b[0m\u001b[1;32m     58\u001b[0m     \u001b[0mdv\u001b[0m\u001b[0;34m=\u001b[0m\u001b[0;36m1\u001b[0m\u001b[0;34m/\u001b[0m\u001b[0mtrDataNum\u001b[0m\u001b[0;34m*\u001b[0m\u001b[0mnp\u001b[0m\u001b[0;34m.\u001b[0m\u001b[0mdot\u001b[0m\u001b[0;34m(\u001b[0m\u001b[0mdz2\u001b[0m\u001b[0;34m,\u001b[0m\u001b[0mtrA1\u001b[0m\u001b[0;34m.\u001b[0m\u001b[0mT\u001b[0m\u001b[0;34m)\u001b[0m\u001b[0;34m\u001b[0m\u001b[0;34m\u001b[0m\u001b[0m\n\u001b[1;32m     59\u001b[0m     \u001b[0mdb\u001b[0m\u001b[0;34m=\u001b[0m\u001b[0;36m1\u001b[0m\u001b[0;34m/\u001b[0m\u001b[0mtrDataNum\u001b[0m\u001b[0;34m*\u001b[0m\u001b[0mnp\u001b[0m\u001b[0;34m.\u001b[0m\u001b[0msum\u001b[0m\u001b[0;34m(\u001b[0m\u001b[0mdz2\u001b[0m\u001b[0;34m,\u001b[0m\u001b[0maxis\u001b[0m\u001b[0;34m=\u001b[0m\u001b[0;36m1\u001b[0m\u001b[0;34m,\u001b[0m\u001b[0mkeepdims\u001b[0m\u001b[0;34m=\u001b[0m\u001b[0;32mTrue\u001b[0m\u001b[0;34m)\u001b[0m\u001b[0;34m\u001b[0m\u001b[0;34m\u001b[0m\u001b[0m\n",
      "\u001b[0;31mValueError\u001b[0m: shapes (49,10) and (1,6000) not aligned: 10 (dim 1) != 1 (dim 0)"
     ]
    }
   ],
   "source": [
    "for epoch in range(NUM_EPOCH+1):\n",
    "    \n",
    "    #forward propagation(train)\n",
    "    trZ1=np.dot(u,trainX)+a#Layer 1\n",
    "    trA1=sigmoid(trZ1)\n",
    "\n",
    "    trZ2=np.dot(v,trA1)+b#Layer 2\n",
    "    trA2=sigmoid(trZ2)\n",
    "    \n",
    "    trZ3=np.dot(w,trA2)+c#Layer 3\n",
    "    trA3=sigmoid(trZ3)\n",
    "\n",
    "    #get train loss\n",
    "    trloss=-(np.multiply(trainY,np.log(trA3))+np.multiply((1-trainY),np.log(1-trA3)))\n",
    "    trloss=trloss.T\n",
    "    trloss=np.mean(trloss,axis=1)   \n",
    "    trloss=1/trDataNum*np.sum(trloss)\n",
    "    trLossArray[epoch]=trloss\n",
    "    \n",
    "    #forward propagation(test)\n",
    "    tZ1=np.dot(u,testX)+a#Layer 1\n",
    "    tA1=sigmoid(tZ1)\n",
    "    \n",
    "    tZ2=np.dot(v,tA1)+b#Layer 2\n",
    "    tA2=sigmoid(tZ2)\n",
    "    \n",
    "    tZ3=np.dot(w,tA2)+c#Layer 3\n",
    "    tA3=sigmoid(tZ3)\n",
    "    \n",
    "    #get test loss\n",
    "    tloss=-(np.multiply(testY,np.log(tA3))+np.multiply((1-testY),np.log(1-tA3)))\n",
    "    tloss=tloss.T\n",
    "    tloss=np.mean(tloss,axis=1)   \n",
    "    tloss=1/tDataNum*np.sum(tloss)\n",
    "    tLossArray[epoch]=tloss\n",
    "    \n",
    "    #get Accuracy\n",
    "    trainPY=np.argmax(trA3.T,axis=1)\n",
    "    trAccuracy=((trainPY == trainY).sum())/trDataNum\n",
    "    trAcArray[epoch]=trAccuracy\n",
    "    \n",
    "    testPY=np.argmax(tA3.T,axis=1)\n",
    "    tAccuracy=((testPY == testY).sum())/tDataNum\n",
    "    tAcArray[epoch]=tAccuracy\n",
    "    \n",
    "    #backward propagation\n",
    "    dz3=trA3-trainY\n",
    "    dw=1/trDataNum*np.dot(dz3,trA2.T)\n",
    "    dc=1/trDataNum*np.sum(dz3,axis=1,keepdims=True)\n",
    "    \n",
    "    dz2=np.multiply(np.dot(w.T,dz3),trA2*(1.0-trA2))\n",
    "    dv=1/trDataNum*np.dot(dz2,trA1.T)\n",
    "    db=1/trDataNum*np.sum(dz2,axis=1,keepdims=True)\n",
    "    \n",
    "    dz1=np.multiply(np.dot(v.T,dz2),trA1*(1.0-trA1))\n",
    "    du=1/trDataNum*np.dot(dz1,trainX.T)\n",
    "    da=1/trDataNum*np.sum(dz1,axis=1,keepdims=True)\n",
    "    \n",
    "    \n",
    "    #update weight and bias\n",
    "    u=u-lr*du\n",
    "    a=a-lr*da    \n",
    "    \n",
    "    v=v-lr*dv\n",
    "    b=b-lr*db\n",
    "    \n",
    "    w=w-lr*dw\n",
    "    c=c-lr*dc\n",
    "    \n",
    "    #check the data per epoch 50\n",
    "    if epoch%50==0:    \n",
    "        print(\"epoch :\" + str(epoch+1))\n",
    "        print(\"train loss :  \" +np.array2string(trloss))\n",
    "        print(\"test loss :  \" +np.array2string(tloss))\n",
    "        print(\"train accuracy :  \" +np.array2string(trAccuracy))\n",
    "        print(\"test accuracy :  \" +np.array2string(tAccuracy))"
   ]
  },
  {
   "cell_type": "markdown",
   "metadata": {},
   "source": [
    "[5] Present the output of the neural network with random weights"
   ]
  },
  {
   "cell_type": "code",
   "execution_count": null,
   "metadata": {},
   "outputs": [],
   "source": [
    "\n",
    "\n"
   ]
  },
  {
   "cell_type": "code",
   "execution_count": 16,
   "metadata": {},
   "outputs": [
    {
     "data": {
      "image/png": "[encoded data removed]",
      "text/plain": [
       "<Figure size 432x288 with 10 Axes>"
      ]
     },
     "metadata": {
      "needs_background": "light"
     },
     "output_type": "display_data"
    }
   ],
   "source": [
    "#plt.show()\n",
    "\n",
    "#\n",
    "# plot the average image of all the images for each digit\n",
    "#\n",
    "f2 = plt.figure(2)\n",
    "\n",
    "im_average  = np.zeros((size_row * size_col, 10), dtype=float)\n",
    "im_count    = np.zeros(10, dtype=int)\n",
    "\n",
    "for i in range(num_image):\n",
    "\n",
    "    im_average[:, list_label[i]] += list_image[:, i]\n",
    "    im_count[list_label[i]] += 1\n",
    "\n",
    "for i in range(10):\n",
    "\n",
    "    im_average[:, i] /= im_count[i]\n",
    "\n",
    "    plt.subplot(2, 5, i+1)\n",
    "    plt.title(i)\n",
    "    plt.imshow(im_average[:,i].reshape((size_row, size_col)), cmap='Greys', interpolation='None')\n",
    "\n",
    "    frame   = plt.gca()\n",
    "    frame.axes.get_xaxis().set_visible(False)\n",
    "    frame.axes.get_yaxis().set_visible(False)\n",
    "\n",
    "plt.show()"
   ]
  },
  {
   "cell_type": "code",
   "execution_count": null,
   "metadata": {},
   "outputs": [],
   "source": []
  },
  {
   "cell_type": "code",
   "execution_count": null,
   "metadata": {},
   "outputs": [],
   "source": []
  },
  {
   "cell_type": "code",
   "execution_count": null,
   "metadata": {},
   "outputs": [],
   "source": []
  }
 ],
 "metadata": {
  "kernelspec": {
   "display_name": "Python 3",
   "language": "python",
   "name": "python3"
  },
  "language_info": {
   "codemirror_mode": {
    "name": "ipython",
    "version": 3
   },
   "file_extension": ".py",
   "mimetype": "text/x-python",
   "name": "python",
   "nbconvert_exporter": "python",
   "pygments_lexer": "ipython3",
   "version": "3.7.3"
  }
 },
 "nbformat": 4,
 "nbformat_minor": 2
}
